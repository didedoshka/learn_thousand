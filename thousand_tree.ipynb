{
 "cells": [
  {
   "cell_type": "code",
   "execution_count": 2,
   "metadata": {},
   "outputs": [],
   "source": [
    "import thousand.Game as Game\n",
    "from thousand.State import State\n",
    "from thousand.Card import Card\n",
    "\n",
    "from IPython.display import clear_output\n",
    "\n",
    "from copy import deepcopy"
   ]
  },
  {
   "cell_type": "code",
   "execution_count": 3,
   "metadata": {},
   "outputs": [],
   "source": [
    "def build(state, debug: bool = False):\n",
    "    if hash(state) in tree:\n",
    "        return\n",
    "\n",
    "    tree[hash(state)] = [[0] * state.number_of_players, [], None]\n",
    "    if debug is True:\n",
    "        tree[hash(state)].append(state.get_minimal_ansi())\n",
    "    if state.terminated:\n",
    "        return\n",
    "    \n",
    "    correct_moves = Game.correct_moves(state)\n",
    "\n",
    "    best_move = 0\n",
    "    rewards = []\n",
    "\n",
    "    for move in correct_moves:\n",
    "        next_state, got_reward = Game.move(state, move)\n",
    "        rewards.append([0] * state.number_of_players)\n",
    "        for who, what in got_reward:\n",
    "            if who is not None:\n",
    "                rewards[-1][who] += what\n",
    "        tree[hash(state)][1].append(hash(next_state))\n",
    "        build(next_state, debug)\n",
    "\n",
    "    for move in range(len(correct_moves)):\n",
    "        if tree[tree[hash(state)][1][move]][0][state.turn] + rewards[move][state.turn] > tree[tree[hash(state)][1][best_move]][0][state.turn] + rewards[best_move][state.turn]:\n",
    "            best_move = move\n",
    "\n",
    "    tree[hash(state)][0] = deepcopy(tree[tree[hash(state)][1][best_move]][0])\n",
    "    for player in range(state.number_of_players):\n",
    "        tree[hash(state)][0][player] += rewards[best_move][player]\n",
    "\n",
    "    tree[hash(state)][2] = correct_moves[best_move]\n"
   ]
  },
  {
   "cell_type": "code",
   "execution_count": 4,
   "metadata": {},
   "outputs": [],
   "source": [
    "def state_by_cards_and_turn(player0_cards, player1_cards, player2_cards, turn):\n",
    "    return State([[Card(s) for s in player0_cards], \n",
    "                   [Card(s) for s in player1_cards], \n",
    "                   [Card(s) for s in player2_cards]], turn)"
   ]
  },
  {
   "cell_type": "code",
   "execution_count": 5,
   "metadata": {},
   "outputs": [
    {
     "name": "stdout",
     "output_type": "stream",
     "text": [
      "1019964\n"
     ]
    }
   ],
   "source": [
    "player0_cards = [0, 2, 3, 10, 12, 20, 23]\n",
    "player1_cards = [4, 5, 6, 13, 14, 16, 21]\n",
    "player2_cards = [7, 8, 9, 11, 15, 19, 22]\n",
    "\n",
    "input_turn = 0\n",
    "\n",
    "state = state_by_cards_and_turn(player0_cards, player1_cards, player2_cards, input_turn)\n",
    "tree = {}\n",
    "build(state, True)\n",
    "print(len(tree.keys()))\n"
   ]
  },
  {
   "cell_type": "code",
   "execution_count": null,
   "metadata": {},
   "outputs": [],
   "source": [
    "# run this to get the tree\n",
    "\n",
    "for key in tree:\n",
    "    print(key, tree[key][3], tree[key][2])"
   ]
  },
  {
   "cell_type": "code",
   "execution_count": 7,
   "metadata": {},
   "outputs": [
    {
     "name": "stdout",
     "output_type": "stream",
     "text": [
      "\n",
      "player0: [] \n",
      "player1: [] \n",
      "player2: [] \n",
      "\n",
      "turn: player0\n",
      "last: player0\n",
      "trump: nothing\n",
      "\n",
      "cards_on_desk: []\n",
      "\n",
      "rewards 59 41 0\n"
     ]
    }
   ],
   "source": [
    "rewards = []\n",
    "state = state_by_cards_and_turn(player0_cards, player1_cards, player2_cards, input_turn)\n",
    "while not state.terminated:\n",
    "    print(state.get_ansi())\n",
    "    print('rewards', *Game.get_players_rewards(rewards))\n",
    "    input()\n",
    "    state, reward = Game.move(state, tree[hash(state)][2])\n",
    "    rewards.append(reward)\n",
    "    clear_output()\n",
    "\n",
    "\n",
    "print(state.get_ansi())\n",
    "print('rewards', *Game.get_players_rewards(rewards))"
   ]
  }
 ],
 "metadata": {
  "kernelspec": {
   "display_name": "venv",
   "language": "python",
   "name": "python3"
  },
  "language_info": {
   "codemirror_mode": {
    "name": "ipython",
    "version": 3
   },
   "file_extension": ".py",
   "mimetype": "text/x-python",
   "name": "python",
   "nbconvert_exporter": "python",
   "pygments_lexer": "ipython3",
   "version": "3.9.16"
  },
  "orig_nbformat": 4
 },
 "nbformat": 4,
 "nbformat_minor": 2
}
